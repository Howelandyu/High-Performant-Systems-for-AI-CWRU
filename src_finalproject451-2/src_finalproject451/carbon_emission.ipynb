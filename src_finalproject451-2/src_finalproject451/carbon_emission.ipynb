{
 "cells": [
  {
   "cell_type": "code",
   "execution_count": 1,
   "id": "6f9cdcbd-243e-4ab7-9dbe-0a475656c178",
   "metadata": {},
   "outputs": [
    {
     "name": "stderr",
     "output_type": "stream",
     "text": [
      "[codecarbon INFO @ 12:47:16] [setup] RAM Tracking...\n",
      "[codecarbon INFO @ 12:47:16] [setup] GPU Tracking...\n",
      "[codecarbon INFO @ 12:47:16] No GPU found.\n",
      "[codecarbon INFO @ 12:47:17] [setup] CPU Tracking...\n",
      "[codecarbon WARNING @ 12:47:17] No CPU tracking mode found. Falling back on CPU constant mode.\n",
      "[codecarbon WARNING @ 12:47:19] We saw that you have a Intel(R) Xeon(R) Gold 6128 CPU @ 3.40GHz but we don't know it. Please contact us.\n",
      "[codecarbon INFO @ 12:47:19] CPU Model on constant consumption mode: Intel(R) Xeon(R) Gold 6128 CPU @ 3.40GHz\n",
      "[codecarbon INFO @ 12:47:19] >>> Tracker's metadata:\n",
      "[codecarbon INFO @ 12:47:19]   Platform system: Linux-5.4.0-80-generic-x86_64-with-glibc2.31\n",
      "[codecarbon INFO @ 12:47:19]   Python version: 3.9.16\n",
      "[codecarbon INFO @ 12:47:19]   CodeCarbon version: 2.3.2\n",
      "[codecarbon INFO @ 12:47:19]   Available RAM : 188.606 GB\n",
      "[codecarbon INFO @ 12:47:19]   CPU count: 24\n",
      "[codecarbon INFO @ 12:47:19]   CPU model: Intel(R) Xeon(R) Gold 6128 CPU @ 3.40GHz\n",
      "[codecarbon INFO @ 12:47:19]   GPU count: None\n",
      "[codecarbon INFO @ 12:47:19]   GPU model: None\n",
      "[codecarbon INFO @ 12:47:25] Energy consumed for RAM : 0.000005 kWh. RAM Power : 70.72725248336792 W\n",
      "[codecarbon INFO @ 12:47:25] Energy consumed for all CPUs : 0.000003 kWh. Total CPU Power : 42.5 W\n",
      "[codecarbon INFO @ 12:47:25] 0.000008 kWh of electricity used since the beginning.\n"
     ]
    },
    {
     "name": "stdout",
     "output_type": "stream",
     "text": [
      "Emission: 1.554724501151495e-06 kg\n"
     ]
    }
   ],
   "source": [
    "import subprocess\n",
    "import time\n",
    "from codecarbon import EmissionsTracker\n",
    "\n",
    "tracker = EmissionsTracker()\n",
    "def compile_cpp(cpp_file_path, output_exe_path):\n",
    "    \"\"\"\n",
    "    Compile a C++ program.\n",
    "\n",
    "    :param cpp_file_path: Path to the C++ source file.\n",
    "    :param output_exe_path: Path for the compiled executable.\n",
    "    \"\"\"\n",
    "    compile_command = f\"icpx -o {output_exe_path} {cpp_file_path} -L${{MKLROOT}}/lib/intel64 -lmkl_intel_lp64 -lmkl_sequential -lmkl_core -lpthread -lm -ldl\"\n",
    "    result = subprocess.run(compile_command, shell=True, stdout=subprocess.PIPE, stderr=subprocess.PIPE)\n",
    "    if result.returncode != 0:\n",
    "        print(\"Compilation error:\")\n",
    "        print(result.stderr.decode())\n",
    "        exit(1)\n",
    "\n",
    "def run_executable(output_exe_path):\n",
    "    \"\"\"\n",
    "    Run a compiled executable and measure its execution time.\n",
    "\n",
    "    :param output_exe_path: Path of the executable to run.\n",
    "    :return: Execution time in seconds.\n",
    "    \"\"\"\n",
    "    start_time = time.time()\n",
    "    run_command = f\"./{output_exe_path}\"  # Ensure the command is correct for running the executable\n",
    "    result = subprocess.run(run_command, shell=True, stdout=subprocess.PIPE, stderr=subprocess.PIPE)\n",
    "    execution_time = time.time() - start_time\n",
    "\n",
    "    if result.returncode != 0:\n",
    "        print(\"Execution error:\")\n",
    "        print(result.stderr.decode())\n",
    "        exit(1)\n",
    "\n",
    "    return execution_time\n",
    "\n",
    "# Example usage\n",
    "cpp_file_path = 'kn2row_conv_nonsycl.cpp'  # Your C++ file name\n",
    "output_exe_path = 'kn2row_conv_nonsycl'    # Name for the output executable\n",
    "\n",
    "compile_cpp(cpp_file_path, output_exe_path)\n",
    "# tracker.start()\n",
    "run_command = f\"./{output_exe_path}\"  # Ensure the command is correct for running the executable\n",
    "tracker.start()\n",
    "result = subprocess.run(run_command, shell=True, stdout=subprocess.PIPE, stderr=subprocess.PIPE)\n",
    "emission:float =tracker.stop()\n",
    "print(f\"Emission: {emission} kg\")\n",
    "\n"
   ]
  },
  {
   "cell_type": "code",
   "execution_count": 2,
   "id": "abd6979a-0020-4de3-acc5-539ab96ae2cd",
   "metadata": {},
   "outputs": [
    {
     "name": "stderr",
     "output_type": "stream",
     "text": [
      "[codecarbon INFO @ 12:47:41] [setup] RAM Tracking...\n",
      "[codecarbon INFO @ 12:47:41] [setup] GPU Tracking...\n",
      "[codecarbon INFO @ 12:47:41] No GPU found.\n",
      "[codecarbon INFO @ 12:47:41] [setup] CPU Tracking...\n",
      "[codecarbon WARNING @ 12:47:41] No CPU tracking mode found. Falling back on CPU constant mode.\n",
      "[codecarbon WARNING @ 12:47:43] We saw that you have a Intel(R) Xeon(R) Gold 6128 CPU @ 3.40GHz but we don't know it. Please contact us.\n",
      "[codecarbon INFO @ 12:47:43] CPU Model on constant consumption mode: Intel(R) Xeon(R) Gold 6128 CPU @ 3.40GHz\n",
      "[codecarbon INFO @ 12:47:43] >>> Tracker's metadata:\n",
      "[codecarbon INFO @ 12:47:43]   Platform system: Linux-5.4.0-80-generic-x86_64-with-glibc2.31\n",
      "[codecarbon INFO @ 12:47:43]   Python version: 3.9.16\n",
      "[codecarbon INFO @ 12:47:43]   CodeCarbon version: 2.3.2\n",
      "[codecarbon INFO @ 12:47:43]   Available RAM : 188.606 GB\n",
      "[codecarbon INFO @ 12:47:43]   CPU count: 24\n",
      "[codecarbon INFO @ 12:47:43]   CPU model: Intel(R) Xeon(R) Gold 6128 CPU @ 3.40GHz\n",
      "[codecarbon INFO @ 12:47:43]   GPU count: None\n",
      "[codecarbon INFO @ 12:47:43]   GPU model: None\n",
      "[codecarbon INFO @ 12:48:05] Energy consumed for RAM : 0.000161 kWh. RAM Power : 70.72725248336792 W\n",
      "[codecarbon INFO @ 12:48:05] Energy consumed for all CPUs : 0.000097 kWh. Total CPU Power : 42.5 W\n",
      "[codecarbon INFO @ 12:48:05] 0.000257 kWh of electricity used since the beginning.\n"
     ]
    },
    {
     "name": "stdout",
     "output_type": "stream",
     "text": [
      "Emission: 5.283696878726799e-05 kg\n"
     ]
    }
   ],
   "source": [
    "import subprocess\n",
    "import time\n",
    "from codecarbon import EmissionsTracker\n",
    "\n",
    "tracker = EmissionsTracker()\n",
    "def compile_cpp(cpp_file_path, output_exe_path):\n",
    "    \"\"\"\n",
    "    Compile a C++ program.\n",
    "\n",
    "    :param cpp_file_path: Path to the C++ source file.\n",
    "    :param output_exe_path: Path for the compiled executable.\n",
    "    \"\"\"\n",
    "    compile_command = f\"icpx -fsycl -fsycl-device-code-split=per_kernel -DMKL_ILP64 -I$MKLROOT/include -L$MKLROOT/lib/intel64 -lmkl_sycl -lmkl_intel_ilp64 -lmkl_sequential -lmkl_core -lsycl -lOpenCL -lpthread -lm -ldl {cpp_file_path} -o {output_exe_path}\"\n",
    "   \n",
    "    result = subprocess.run(compile_command, shell=True, stdout=subprocess.PIPE, stderr=subprocess.PIPE)\n",
    "    if result.returncode != 0:\n",
    "        print(\"Compilation error:\")\n",
    "        print(result.stderr.decode())\n",
    "        exit(1)\n",
    "\n",
    "def run_executable(output_exe_path):\n",
    "    \"\"\"\n",
    "    Run a compiled executable and measure its execution time.\n",
    "\n",
    "    :param output_exe_path: Path of the executable to run.\n",
    "    :return: Execution time in seconds.\n",
    "    \"\"\"\n",
    "    start_time = time.time()\n",
    "    run_command = f\"./{output_exe_path}\"  # Ensure the command is correct for running the executable\n",
    "    result = subprocess.run(run_command, shell=True, stdout=subprocess.PIPE, stderr=subprocess.PIPE)\n",
    "    execution_time = time.time() - start_time\n",
    "\n",
    "    if result.returncode != 0:\n",
    "        print(\"Execution error:\")\n",
    "        print(result.stderr.decode())\n",
    "        exit(1)\n",
    "\n",
    "    return execution_time\n",
    "\n",
    "# Example usage\n",
    "cpp_file_path = 'kn2row_conv_sycl.cpp'  # Your C++ file name\n",
    "output_exe_path = 'kn2row_conv_sycl'    # Name for the output executable\n",
    "\n",
    "compile_cpp(cpp_file_path, output_exe_path)\n",
    "# tracker.start()\n",
    "run_command = f\"./{output_exe_path}\"  # Ensure the command is correct for running the executable\n",
    "tracker.start()\n",
    "result = subprocess.run(run_command, shell=True, stdout=subprocess.PIPE, stderr=subprocess.PIPE)\n",
    "emission:float =tracker.stop()\n",
    "print(f\"Emission: {emission} kg\")\n",
    "\n"
   ]
  },
  {
   "cell_type": "code",
   "execution_count": null,
   "id": "f0e3dd47-cc94-43a8-81e4-8a608ae131c2",
   "metadata": {},
   "outputs": [],
   "source": []
  }
 ],
 "metadata": {
  "kernelspec": {
   "display_name": "Python 3 (Intel® oneAPI 2023.2)",
   "language": "python",
   "name": "c009-intel_distribution_of_python_3_oneapi-beta05-python"
  },
  "language_info": {
   "codemirror_mode": {
    "name": "ipython",
    "version": 3
   },
   "file_extension": ".py",
   "mimetype": "text/x-python",
   "name": "python",
   "nbconvert_exporter": "python",
   "pygments_lexer": "ipython3",
   "version": "3.9.16"
  }
 },
 "nbformat": 4,
 "nbformat_minor": 5
}
