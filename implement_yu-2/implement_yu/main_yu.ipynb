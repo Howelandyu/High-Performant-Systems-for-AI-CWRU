{
 "cells": [
  {
   "cell_type": "code",
   "execution_count": 32,
   "metadata": {},
   "outputs": [],
   "source": [
    "import torch.nn.functional as F\n",
    "import torch\n",
    "import torchvision\n",
    "from matplotlib import pyplot as plt\n",
    "import intel_extension_for_pytorch as ipex\n",
    "from codecarbon import EmissionsTracker"
   ]
  },
  {
   "cell_type": "code",
   "execution_count": 33,
   "metadata": {},
   "outputs": [
    {
     "name": "stdout",
     "output_type": "stream",
     "text": [
      "Defaulting to user installation because normal site-packages is not writeable\n",
      "Requirement already satisfied: pybind11 in /home/u205840/.local/lib/python3.9/site-packages (2.11.1)\n",
      "Note: you may need to restart the kernel to use updated packages.\n"
     ]
    }
   ],
   "source": [
    "pip install pybind11"
   ]
  },
  {
   "cell_type": "code",
   "execution_count": 34,
   "metadata": {
    "colab": {
     "base_uri": "https://localhost:8080/",
     "height": 894,
     "referenced_widgets": [
      "08d42405924e45abaa3655a9596ab327",
      "27912aa14590467fb35efb32ba061a57",
      "bdf94c7d39fa41da9f0d6b53079e697b",
      "8962d4506ed44e95a4f227b67db54abd",
      "87ffdbc326394041a6d20850e52062c8",
      "c18a42c2892040428cb0790446d17439",
      "08c135ed5d86445a8510d10fd37d5195",
      "9715821f1ab34decac23617fac0a3329",
      "c9cce418d88242838c988b4d733c41f9",
      "e04b72dd789c4584bb43710564306f86",
      "6ca336880c074cf5b9f230ab76f501f5",
      "6ab8b1357982408e8709ffab1f71db9c",
      "95b40d79a7e74e7fa0a2310642c6c2e7",
      "8c031fc3a8b3452db8613695b15c9b66",
      "bbc6e4b31cc147d98fd8c5050a079491",
      "70fb4a98ca08473484b3593636de85df",
      "72a2264165f4426fbb81092bec691304",
      "fb97bcd5ae4f4fe2886244e514d1a7aa",
      "0a0e63f8f4cb465fa251429ddd67c985",
      "253b164bbebb4c269a97a85cc28854b3",
      "8740447ca363409496d90a02e7a4428b",
      "771dd452d3584fcd8c1ef34001cce67b",
      "f822523080344831b7d673010fac4901",
      "6cfbb890f36a4a9297beb84b101690bc",
      "ae370b9552ad405cb8eb01379204d52f",
      "842f048fde2242e28af1eae944063bc7",
      "c3e80139006a44c6972684e1f55dd903",
      "9914b6ddb15844ca8667f5a9be121fea",
      "2e070cb5474d46bc91ccdb7c68c6a9d4",
      "b1cb1f56134c46de9a2aff80091b3c44",
      "e83c013a70e84d7087c671f5fc2783e8",
      "f76af28e50a046c48e3e79e6618d8437"
     ]
    },
    "id": "MiW5U97VYlj9",
    "outputId": "078fdcc7-7aed-46d3-ace7-71be68ccdbf1"
   },
   "outputs": [
    {
     "data": {
      "text/plain": [
       "Dataset MNIST\n",
       "    Number of datapoints: 60000\n",
       "    Root location: ./\n",
       "    Split: Train"
      ]
     },
     "execution_count": 34,
     "metadata": {},
     "output_type": "execute_result"
    }
   ],
   "source": [
    "root_dir = './'\n",
    "torchvision.datasets.MNIST(root=root_dir,download=True)"
   ]
  },
  {
   "cell_type": "code",
   "execution_count": 35,
   "metadata": {},
   "outputs": [
    {
     "name": "stderr",
     "output_type": "stream",
     "text": [
      "[codecarbon INFO @ 17:48:18] [setup] RAM Tracking...\n",
      "[codecarbon INFO @ 17:48:18] [setup] GPU Tracking...\n",
      "[codecarbon INFO @ 17:48:18] No GPU found.\n",
      "[codecarbon INFO @ 17:48:18] [setup] CPU Tracking...\n",
      "[codecarbon WARNING @ 17:48:18] No CPU tracking mode found. Falling back on CPU constant mode.\n",
      "[codecarbon WARNING @ 17:48:21] We saw that you have a Intel(R) Xeon(R) Gold 6128 CPU @ 3.40GHz but we don't know it. Please contact us.\n",
      "[codecarbon INFO @ 17:48:21] CPU Model on constant consumption mode: Intel(R) Xeon(R) Gold 6128 CPU @ 3.40GHz\n",
      "[codecarbon INFO @ 17:48:21] >>> Tracker's metadata:\n",
      "[codecarbon INFO @ 17:48:21]   Platform system: Linux-5.4.0-80-generic-x86_64-with-glibc2.31\n",
      "[codecarbon INFO @ 17:48:21]   Python version: 3.9.16\n",
      "[codecarbon INFO @ 17:48:21]   CodeCarbon version: 2.3.2\n",
      "[codecarbon INFO @ 17:48:21]   Available RAM : 187.622 GB\n",
      "[codecarbon INFO @ 17:48:21]   CPU count: 24\n",
      "[codecarbon INFO @ 17:48:21]   CPU model: Intel(R) Xeon(R) Gold 6128 CPU @ 3.40GHz\n",
      "[codecarbon INFO @ 17:48:21]   GPU count: None\n",
      "[codecarbon INFO @ 17:48:21]   GPU model: None\n"
     ]
    }
   ],
   "source": [
    "tracker = EmissionsTracker()\n"
   ]
  },
  {
   "cell_type": "code",
   "execution_count": 36,
   "metadata": {
    "id": "hJanGaztSBF2"
   },
   "outputs": [],
   "source": [
    "# Load MNIST dataset\n",
    "train_set = torchvision.datasets.MNIST(root=root_dir, download=True, train=True)\n",
    "test_set = torchvision.datasets.MNIST(root=root_dir, download=True, train=False)"
   ]
  },
  {
   "cell_type": "code",
   "execution_count": 37,
   "metadata": {
    "colab": {
     "base_uri": "https://localhost:8080/"
    },
    "id": "oNwamE6qSKiP",
    "outputId": "bf7307b0-ad8a-4dfe-86fe-e7a95f5669d7"
   },
   "outputs": [
    {
     "name": "stdout",
     "output_type": "stream",
     "text": [
      "Num. training samples: 60000\n",
      "Num. test samples:     10000\n"
     ]
    }
   ],
   "source": [
    "# Dataset len\n",
    "num_train = len(train_set)\n",
    "num_test = len(test_set)\n",
    "print(f\"Num. training samples: {num_train}\")\n",
    "print(f\"Num. test samples:     {num_test}\")"
   ]
  },
  {
   "cell_type": "code",
   "execution_count": 38,
   "metadata": {
    "id": "sIUHUWNha8el"
   },
   "outputs": [],
   "source": [
    "from torchvision import utils\n",
    "import matplotlib.pyplot as plt\n",
    "import numpy as np\n",
    "%matplotlib inline"
   ]
  },
  {
   "cell_type": "code",
   "execution_count": 39,
   "metadata": {
    "colab": {
     "base_uri": "https://localhost:8080/"
    },
    "id": "NLw1F2VLbGIl",
    "outputId": "1a3f964e-5364-4a47-9fc9-ccbd79f9bdf7"
   },
   "outputs": [
    {
     "name": "stdout",
     "output_type": "stream",
     "text": [
      "<class 'torch.Tensor'>\n",
      "torch.Size([60000, 28, 28])\n",
      "torch.Size([60000])\n"
     ]
    }
   ],
   "source": [
    "# extract data and targets\n",
    "x_train, y_train=train_set.data,train_set.targets\n",
    "print(type(x_train))\n",
    "print(x_train.shape)\n",
    "print(y_train.shape)"
   ]
  },
  {
   "cell_type": "code",
   "execution_count": 40,
   "metadata": {
    "colab": {
     "base_uri": "https://localhost:8080/"
    },
    "id": "wcCDXNi1bg90",
    "outputId": "86f227df-4142-44ef-e568-e74e0d2d5680"
   },
   "outputs": [
    {
     "name": "stdout",
     "output_type": "stream",
     "text": [
      "torch.Size([60000, 1, 28, 28])\n"
     ]
    }
   ],
   "source": [
    "# add a dimension to tensor to become B*C*H*W\n",
    "if len(x_train.shape)==3:\n",
    "  x_train=x_train.unsqueeze(1)\n",
    "print(x_train.shape)"
   ]
  },
  {
   "cell_type": "code",
   "execution_count": 41,
   "metadata": {
    "id": "xl1_l-aKaysD"
   },
   "outputs": [],
   "source": [
    "def show(img):\n",
    "  # convert tensor to numpy array\n",
    "  npimg = img.numpy()\n",
    "  # Convert to H*W*C shape\n",
    "  npimg_tr=np.transpose(npimg, (1,2,0))\n",
    "  plt.imshow(npimg_tr,interpolation='nearest')"
   ]
  },
  {
   "cell_type": "code",
   "execution_count": 42,
   "metadata": {
    "colab": {
     "base_uri": "https://localhost:8080/",
     "height": 278
    },
    "id": "QO0RQURta3C3",
    "outputId": "cc2fe2e9-9cca-4979-9423-15eae29f3e00"
   },
   "outputs": [],
   "source": [
    "# # make a grid of 40 images, 8 images per row\n",
    "# x_grid=utils.make_grid(x_train[:40], nrow=8, padding=2)\n",
    "# print(x_grid.shape)\n",
    "# # call helper function\n",
    "# show(x_grid)"
   ]
  },
  {
   "cell_type": "code",
   "execution_count": 43,
   "metadata": {
    "id": "n-Gx9dtZSM0v"
   },
   "outputs": [],
   "source": [
    "# List of indexes on the training set\n",
    "train_idx = list(range(num_train))\n",
    "\n",
    "# List of indexes of the test set\n",
    "test_idx = list(range(num_test))"
   ]
  },
  {
   "cell_type": "code",
   "execution_count": 44,
   "metadata": {
    "colab": {
     "base_uri": "https://localhost:8080/"
    },
    "id": "5Unhsqe1SPX2",
    "outputId": "2f9dbfcf-181a-4fe0-f6e6-1feab8e66873"
   },
   "outputs": [
    {
     "name": "stdout",
     "output_type": "stream",
     "text": [
      "55668\n",
      "56984\n",
      "20749\n",
      "14728\n",
      "47292\n",
      "11269\n",
      "32137\n",
      "35590\n",
      "28511\n",
      "12819\n"
     ]
    }
   ],
   "source": [
    "# Shuffle the training set\n",
    "import random\n",
    "\n",
    "random.shuffle(train_idx)\n",
    "for i in range(10):\n",
    "  print(train_idx[i])"
   ]
  },
  {
   "cell_type": "code",
   "execution_count": 45,
   "metadata": {
    "colab": {
     "base_uri": "https://localhost:8080/"
    },
    "id": "yJo5iKPpSRr3",
    "outputId": "8ba6813b-28c9-44c1-b7cb-a241df5fd0aa"
   },
   "outputs": [
    {
     "name": "stdout",
     "output_type": "stream",
     "text": [
      "54000 samples used as train set\n",
      "6000  samples used as val set\n"
     ]
    }
   ],
   "source": [
    "# Fraction of the original train set that we want to use as validation set\n",
    "val_frac = 0.1\n",
    "# Number of samples of the validation set\n",
    "num_val = int(num_train * val_frac)\n",
    "num_train = num_train - num_val\n",
    "\n",
    "# Split training set\n",
    "val_idx = train_idx[num_train:]\n",
    "train_idx = train_idx[:num_train]\n",
    "\n",
    "print(f\"{num_train} samples used as train set\")\n",
    "print(f\"{num_val}  samples used as val set\")"
   ]
  },
  {
   "cell_type": "code",
   "execution_count": 46,
   "metadata": {
    "colab": {
     "base_uri": "https://localhost:8080/"
    },
    "id": "TZ1oJFIWSVm-",
    "outputId": "30289f72-3caf-47bc-a867-2b936e24a5a2"
   },
   "outputs": [
    {
     "data": {
      "text/plain": [
       "54000"
      ]
     },
     "execution_count": 46,
     "metadata": {},
     "output_type": "execute_result"
    }
   ],
   "source": [
    "len(train_idx)"
   ]
  },
  {
   "cell_type": "code",
   "execution_count": 47,
   "metadata": {
    "id": "QOFmeNGfSXam"
   },
   "outputs": [],
   "source": [
    "from torchvision import transforms\n",
    "\n",
    "# Compose transformations\n",
    "data_transform = transforms.Compose([\n",
    "  transforms.Resize(32),\n",
    "  transforms.RandomHorizontalFlip(),\n",
    "  transforms.ToTensor(),\n",
    "])\n",
    "\n",
    "test_transform = transforms.Compose([\n",
    "  transforms.Resize(32),\n",
    "  transforms.ToTensor(),\n",
    "])\n",
    "# Load MNIST dataset with transforms\n",
    "train_set = torchvision.datasets.MNIST(root=root_dir, train=True, download=True, transform=data_transform)\n",
    "test_set = torchvision.datasets.MNIST(root=root_dir, train=False, download=True, transform=test_transform)"
   ]
  },
  {
   "cell_type": "code",
   "execution_count": 48,
   "metadata": {
    "colab": {
     "base_uri": "https://localhost:8080/",
     "height": 283
    },
    "id": "Dagq5qHPY1sQ",
    "outputId": "09028136-465e-467a-f019-6f48bfb91da8"
   },
   "outputs": [
    {
     "name": "stdout",
     "output_type": "stream",
     "text": [
      "torch.Size([1, 32, 32])\n",
      "Label: 0\n"
     ]
    },
    {
     "data": {
      "image/png": "[encoded data removed]",
      "text/plain": [
       "<Figure size 640x480 with 1 Axes>"
      ]
     },
     "metadata": {},
     "output_type": "display_data"
    }
   ],
   "source": [
    "image, label = train_set[1]\n",
    "print(image.shape)\n",
    "plt.imshow(image.squeeze(), cmap='gray')\n",
    "print('Label:', label)"
   ]
  },
  {
   "cell_type": "code",
   "execution_count": 49,
   "metadata": {
    "id": "1Kov4iNjSbO-"
   },
   "outputs": [
    {
     "name": "stdout",
     "output_type": "stream",
     "text": [
      "<torch.utils.data.dataset.Subset object at 0x7f07ba8ff190>\n"
     ]
    }
   ],
   "source": [
    "# Split train_dataset into training and validation\n",
    "from torch.utils.data import Subset\n",
    "\n",
    "val_set = Subset(train_set, val_idx)\n",
    "train_set = Subset(train_set, train_idx)\n",
    "print(train_set)"
   ]
  },
  {
   "cell_type": "code",
   "execution_count": 50,
   "metadata": {
    "id": "c86_czq_SfXh"
   },
   "outputs": [],
   "source": [
    "# Define loaders\n",
    "from torch.utils.data import DataLoader\n",
    "train_loader = DataLoader(train_set, batch_size=64, num_workers=2, shuffle=True, drop_last=True)\n",
    "val_loader   = DataLoader(val_set,   batch_size=64, num_workers=2, shuffle=False, drop_last=False)\n",
    "test_loader  = DataLoader(test_set,  batch_size=64, num_workers=2, shuffle=False, drop_last=False)\n"
   ]
  },
  {
   "cell_type": "code",
   "execution_count": null,
   "metadata": {},
   "outputs": [],
   "source": []
  },
  {
   "cell_type": "code",
   "execution_count": 51,
   "metadata": {
    "id": "0-0EkXJsZ0NG"
   },
   "outputs": [],
   "source": [
    "import torch.nn as nn"
   ]
  },
  {
   "cell_type": "code",
   "execution_count": 52,
   "metadata": {
    "id": "jvbILdHidK6b"
   },
   "outputs": [],
   "source": [
    "class VGGBlock(nn.Module):\n",
    "    def __init__(self, in_channels, out_channels,batch_norm=False):\n",
    "\n",
    "        super().__init__()\n",
    "\n",
    "        conv2_params = {'kernel_size': (2, 2),\n",
    "                        'stride'     : (1, 1),\n",
    "                        'padding'   : 1\n",
    "                        }\n",
    "\n",
    "        noop = lambda x : x\n",
    "\n",
    "        self._batch_norm = batch_norm\n",
    "\n",
    "        self.conv1 = nn.Conv2d(in_channels=in_channels,out_channels=out_channels , **conv2_params)\n",
    "        \n",
    "        self.bn1 = nn.BatchNorm2d(out_channels) if batch_norm else noop\n",
    "        #self.bn1 = nn.GroupNorm(32, out_channels) if batch_norm else noop\n",
    "\n",
    "        self.conv2 = nn.Conv2d(in_channels=out_channels,out_channels=out_channels, **conv2_params)\n",
    "        self.bn2 = nn.BatchNorm2d(out_channels) if batch_norm else noop\n",
    "        #self.bn2 = nn.GroupNorm(32, out_channels) if batch_norm else noop\n",
    "\n",
    "        self.max_pooling = nn.MaxPool2d(kernel_size=(2, 2), stride=(2, 2))\n",
    "\n",
    "    @property\n",
    "    def batch_norm(self):\n",
    "        return self._batch_norm\n",
    "\n",
    "    def forward(self,x):\n",
    "        \n",
    "        x = self.conv1(x) \n",
    "        \n",
    "        x = self.bn1(x)\n",
    "        x = F.relu(x)\n",
    "\n",
    "        x = self.conv2(x)\n",
    "        x = self.bn2(x)\n",
    "        x = F.relu(x)\n",
    "\n",
    "        x = self.max_pooling(x)\n",
    "\n",
    "        return x"
   ]
  },
  {
   "cell_type": "code",
   "execution_count": 53,
   "metadata": {
    "id": "rOIHAxsJlSr3"
   },
   "outputs": [],
   "source": [
    "class VGG16(nn.Module):\n",
    "\n",
    "  def __init__(self, input_size, num_classes=10,batch_norm=False):\n",
    "    super(VGG16, self).__init__()\n",
    "\n",
    "    self.in_channels,self.in_width,self.in_height = input_size\n",
    "\n",
    "    self.block_1 = VGGBlock(self.in_channels,64,batch_norm=batch_norm)\n",
    "    self.block_2 = VGGBlock(64, 128,batch_norm=batch_norm)\n",
    "    self.block_3 = VGGBlock(128, 256,batch_norm=batch_norm)\n",
    "    self.block_4 = VGGBlock(256,512,batch_norm=batch_norm)\n",
    "\n",
    "\n",
    "  @property\n",
    "  def input_size(self):\n",
    "      return self.in_channels,self.in_width,self.in_height\n",
    "\n",
    "  def forward(self, x):\n",
    "\n",
    "    x = self.block_1(x)\n",
    "    x = self.block_2(x)\n",
    "    x = self.block_3(x)\n",
    "    x = self.block_4(x)\n",
    "\n",
    "    return x"
   ]
  },
  {
   "cell_type": "code",
   "execution_count": 54,
   "metadata": {
    "colab": {
     "base_uri": "https://localhost:8080/"
    },
    "id": "oyAypDc8Z6E7",
    "outputId": "ed178bf4-f5ce-4955-a042-94a0a551ebf2"
   },
   "outputs": [
    {
     "name": "stdout",
     "output_type": "stream",
     "text": [
      "VGG16(\n",
      "  (block_1): VGGBlock(\n",
      "    (conv1): Conv2d(1, 64, kernel_size=(2, 2), stride=(1, 1), padding=(1, 1))\n",
      "    (bn1): BatchNorm2d(64, eps=1e-05, momentum=0.1, affine=True, track_running_stats=True)\n",
      "    (conv2): Conv2d(64, 64, kernel_size=(2, 2), stride=(1, 1), padding=(1, 1))\n",
      "    (bn2): BatchNorm2d(64, eps=1e-05, momentum=0.1, affine=True, track_running_stats=True)\n",
      "    (max_pooling): MaxPool2d(kernel_size=(2, 2), stride=(2, 2), padding=0, dilation=1, ceil_mode=False)\n",
      "  )\n",
      "  (block_2): VGGBlock(\n",
      "    (conv1): Conv2d(64, 128, kernel_size=(2, 2), stride=(1, 1), padding=(1, 1))\n",
      "    (bn1): BatchNorm2d(128, eps=1e-05, momentum=0.1, affine=True, track_running_stats=True)\n",
      "    (conv2): Conv2d(128, 128, kernel_size=(2, 2), stride=(1, 1), padding=(1, 1))\n",
      "    (bn2): BatchNorm2d(128, eps=1e-05, momentum=0.1, affine=True, track_running_stats=True)\n",
      "    (max_pooling): MaxPool2d(kernel_size=(2, 2), stride=(2, 2), padding=0, dilation=1, ceil_mode=False)\n",
      "  )\n",
      "  (block_3): VGGBlock(\n",
      "    (conv1): Conv2d(128, 256, kernel_size=(2, 2), stride=(1, 1), padding=(1, 1))\n",
      "    (bn1): BatchNorm2d(256, eps=1e-05, momentum=0.1, affine=True, track_running_stats=True)\n",
      "    (conv2): Conv2d(256, 256, kernel_size=(2, 2), stride=(1, 1), padding=(1, 1))\n",
      "    (bn2): BatchNorm2d(256, eps=1e-05, momentum=0.1, affine=True, track_running_stats=True)\n",
      "    (max_pooling): MaxPool2d(kernel_size=(2, 2), stride=(2, 2), padding=0, dilation=1, ceil_mode=False)\n",
      "  )\n",
      "  (block_4): VGGBlock(\n",
      "    (conv1): Conv2d(256, 512, kernel_size=(2, 2), stride=(1, 1), padding=(1, 1))\n",
      "    (bn1): BatchNorm2d(512, eps=1e-05, momentum=0.1, affine=True, track_running_stats=True)\n",
      "    (conv2): Conv2d(512, 512, kernel_size=(2, 2), stride=(1, 1), padding=(1, 1))\n",
      "    (bn2): BatchNorm2d(512, eps=1e-05, momentum=0.1, affine=True, track_running_stats=True)\n",
      "    (max_pooling): MaxPool2d(kernel_size=(2, 2), stride=(2, 2), padding=0, dilation=1, ceil_mode=False)\n",
      "  )\n",
      ")\n"
     ]
    }
   ],
   "source": [
    "# Create the model\n",
    "model = VGG16((1,32,32),batch_norm=True)\n",
    "print(model)"
   ]
  },
  {
   "cell_type": "code",
   "execution_count": 55,
   "metadata": {
    "id": "NF8A8moTe_Ru"
   },
   "outputs": [],
   "source": [
    "# Get an element from the dataset\n",
    "test_x, _ = train_set[100] # each element of the dataset is a couple (image, label)\n",
    "test_x = test_x.unsqueeze(dim=0)"
   ]
  },
  {
   "cell_type": "code",
   "execution_count": 56,
   "metadata": {
    "colab": {
     "base_uri": "https://localhost:8080/"
    },
    "id": "fx9kP4Ezfm_t",
    "outputId": "33ed6657-e578-42b9-e9d9-09ecc6f69392"
   },
   "outputs": [
    {
     "data": {
      "text/plain": [
       "torch.Size([1, 1, 32, 32])"
      ]
     },
     "execution_count": 56,
     "metadata": {},
     "output_type": "execute_result"
    }
   ],
   "source": [
    "# Get the size of a sample\n",
    "test_x.size()"
   ]
  },
  {
   "cell_type": "code",
   "execution_count": 57,
   "metadata": {},
   "outputs": [
    {
     "name": "stdout",
     "output_type": "stream",
     "text": [
      "[[[[0. 0. 0. ... 0. 0. 0.]\n",
      "   [0. 0. 0. ... 0. 0. 0.]\n",
      "   [0. 0. 0. ... 0. 0. 0.]\n",
      "   ...\n",
      "   [0. 0. 0. ... 0. 0. 0.]\n",
      "   [0. 0. 0. ... 0. 0. 0.]\n",
      "   [0. 0. 0. ... 0. 0. 0.]]]]\n"
     ]
    }
   ],
   "source": [
    "test_x_np = test_x.numpy()\n",
    "print(test_x_np)\n",
    "test_x_flattened = test_x_np.ravel()"
   ]
  },
  {
   "cell_type": "code",
   "execution_count": 58,
   "metadata": {},
   "outputs": [],
   "source": [
    "# Writing the flattened array to a text file\n",
    "with open('flat_test_x.txt', 'w') as file:\n",
    "    for value in test_x_flattened:\n",
    "        file.write(str(value) + '\\n')"
   ]
  },
  {
   "cell_type": "code",
   "execution_count": 59,
   "metadata": {
    "colab": {
     "base_uri": "https://localhost:8080/"
    },
    "id": "e9r8-Nc1NZBM",
    "outputId": "d04ca655-8989-4dbc-ac0d-0171bed98dec"
   },
   "outputs": [],
   "source": [
    "def apply_conv2d(batch):\n",
    "    # Check if CUDA is available and then set the device to GPU\n",
    "    device = torch.device(\"cuda\" if torch.cuda.is_available() else \"cpu\")\n",
    "    print(f'Using device: {device}')\n",
    "    \n",
    "    # Define a Conv2D layer\n",
    "    \n",
    "    # Parameters: in_channels (1), out_channels (64), kernel_size (default is 2)\n",
    "    conv_layer = nn.Conv2d(in_channels=1, out_channels=64, kernel_size=2, padding=1, stride=1)\n",
    "    \n",
    "    # Manually initialize weights to a fixed value - 0.1\n",
    "    nn.init.constant_(conv_layer.weight, 0.1)\n",
    "\n",
    "    # initialize biases to a fixed value\n",
    "    nn.init.constant_(conv_layer.bias, 0)\n",
    "\n",
    "    current_weights_numpy = conv_layer.weight.data.cpu().numpy()\n",
    "    \n",
    "    print(current_weights_numpy.shape)\n",
    "    \n",
    "    # Apply the conv layer to the batch\n",
    "    # Assuming the batch is of the shape (batch_size, channels, height, width)\n",
    "    output = conv_layer(batch)\n",
    "    \n",
    "    # Move the conv layer to the GPU\n",
    "    conv_layer = conv_layer.to(device)\n",
    "\n",
    "    # Move the batch to the GPU\n",
    "    batch = batch.to(device)\n",
    "\n",
    "    # Apply the conv layer to the batch\n",
    "    output = conv_layer(batch)\n",
    "\n",
    "    return output"
   ]
  },
  {
   "cell_type": "code",
   "execution_count": 60,
   "metadata": {},
   "outputs": [
    {
     "name": "stdout",
     "output_type": "stream",
     "text": [
      "Using device: cpu\n",
      "(64, 1, 2, 2)\n",
      "Total running time: 0.021170854568481445 seconds\n"
     ]
    }
   ],
   "source": [
    "# Time this - Pytorch Convolution\n",
    "import time\n",
    "start_time = time.time()\n",
    "output = apply_conv2d(test_x)\n",
    "end_time = time.time()\n",
    "total_time = end_time - start_time\n",
    "print(f\"Total running time: {total_time} seconds\")\n"
   ]
  },
  {
   "cell_type": "code",
   "execution_count": 61,
   "metadata": {},
   "outputs": [
    {
     "name": "stderr",
     "output_type": "stream",
     "text": [
      "[codecarbon INFO @ 17:48:23] Energy consumed for RAM : 0.000000 kWh. RAM Power : 70.35811042785645 W\n",
      "[codecarbon INFO @ 17:48:23] Energy consumed for all CPUs : 0.000000 kWh. Total CPU Power : 42.5 W\n",
      "[codecarbon INFO @ 17:48:23] 0.000000 kWh of electricity used since the beginning.\n"
     ]
    },
    {
     "name": "stdout",
     "output_type": "stream",
     "text": [
      "Using device: cpu\n",
      "(64, 1, 2, 2)\n",
      "Emission: 3.2904493972453324e-08 kg\n"
     ]
    }
   ],
   "source": [
    "tracker.start()\n",
    "output = apply_conv2d(test_x)\n",
    "emission:float =tracker.stop()\n",
    "print(f\"Emission: {emission} kg\")"
   ]
  },
  {
   "cell_type": "markdown",
   "metadata": {},
   "source": [
    "# Run kn2row Convolution With Sycl"
   ]
  },
  {
   "cell_type": "code",
   "execution_count": 31,
   "metadata": {},
   "outputs": [],
   "source": [
    "\n",
    "### \n",
    "run_kn2row_conv_sycl = \"\"\"#!/bin/bash\n",
    "source /opt/intel/oneapi/setvars.sh > /dev/null 2>&1\n",
    "/bin/echo \"##\" $(whoami) is compiling kn2row\n",
    "icpx -fsycl -fsycl-device-code-split=per_kernel -DMKL_ILP64 -I$MKLROOT/include -L$MKLROOT/lib/intel64 -lmkl_sycl -lmkl_intel_ilp64 -lmkl_sequential -lmkl_core -lsycl -lOpenCL -lpthread -lm -ldl kn2row_conv_sycl.cpp -o kn2row_conv_sycl\n",
    "if [ $? -eq 0 ]; then ./kn2row_conv_sycl; fi\n",
    "\"\"\"\n",
    "\n",
    "with open(\"run_kn2row_conv_sycl.sh\", \"w\") as f:\n",
    "    f.write(run_kn2row_conv_sycl)\n"
   ]
  },
  {
   "cell_type": "code",
   "execution_count": 32,
   "metadata": {},
   "outputs": [
    {
     "name": "stdout",
     "output_type": "stream",
     "text": [
      "Job has been submitted to Intel(R) DevCloud and will execute soon.\n",
      "\n",
      "Job ID                    Name             User            Time Use S Queue\n",
      "------------------------- ---------------- --------------- -------- - -----\n",
      "2448655.v-qsvr-1           ...ub-singleuser u205840         00:00:35 R jupyterhub     \n",
      "2448669.v-qsvr-1           ..._conv_sycl.sh u205840                0 Q batch          \n",
      "\n",
      "Waiting for Output ███████████████████████████████████ Done⬇\n",
      "\n",
      "########################################################################\n",
      "#      Date:           Fri Dec 15 05:43:27 PM PST 2023\n",
      "#    Job ID:           2448669.v-qsvr-1.aidevcloud\n",
      "#      User:           u205840\n",
      "# Resources:           cput=75:00:00,neednodes=1:gpu:ppn=2,nodes=1:gpu:ppn=2,walltime=06:00:00\n",
      "########################################################################\n",
      "\n",
      "## u205840 is compiling kn2row\n",
      "\n",
      "########################################################################\n",
      "# End of output for job 2448669.v-qsvr-1.aidevcloud\n",
      "# Date: Fri Dec 15 05:43:50 PM PST 2023\n",
      "########################################################################\n",
      "\n",
      "Job Completed in 35 seconds.\n"
     ]
    }
   ],
   "source": [
    "!chmod 755 q; chmod 755 run_kn2row_conv_sycl.sh; if [ -x \"$(command -v qsub)\" ]; then ./q run_kn2row_conv_sycl.sh; fi\n"
   ]
  },
  {
   "cell_type": "markdown",
   "metadata": {},
   "source": [
    "# Run kn2row Convolution without Sycl"
   ]
  },
  {
   "cell_type": "code",
   "execution_count": 33,
   "metadata": {},
   "outputs": [],
   "source": [
    "### \n",
    "run_kn2row_nonsycl = \"\"\"#!/bin/bash\n",
    "source /opt/intel/oneapi/setvars.sh > /dev/null 2>&1\n",
    "/bin/echo \"##\" $(whoami) is compiling kn2row\n",
    "icpx -o kn2row_conv_nonsycl kn2row_conv_nonsycl.cpp -lmkl_rt\n",
    "if [ $? -eq 0 ]; then ./kn2row_conv_nonsycl; fi\n",
    "\"\"\"\n",
    "\n",
    "with open(\"run_kn2row_conv_nonsycl.sh\", \"w\") as f:\n",
    "    f.write(run_kn2row_nonsycl)"
   ]
  },
  {
   "cell_type": "code",
   "execution_count": 34,
   "metadata": {},
   "outputs": [
    {
     "name": "stdout",
     "output_type": "stream",
     "text": [
      "Job has been submitted to Intel(R) DevCloud and will execute soon.\n",
      "\n",
      "Job ID                    Name             User            Time Use S Queue\n",
      "------------------------- ---------------- --------------- -------- - -----\n",
      "2448655.v-qsvr-1           ...ub-singleuser u205840         00:00:38 R jupyterhub     \n",
      "2448670.v-qsvr-1           ...nv_nonsycl.sh u205840                0 Q batch          \n",
      "\n",
      "Waiting for Output █████████ Done⬇\n",
      "\n",
      "########################################################################\n",
      "#      Date:           Fri Dec 15 05:44:03 PM PST 2023\n",
      "#    Job ID:           2448670.v-qsvr-1.aidevcloud\n",
      "#      User:           u205840\n",
      "# Resources:           cput=75:00:00,neednodes=1:gpu:ppn=2,nodes=1:gpu:ppn=2,walltime=06:00:00\n",
      "########################################################################\n",
      "\n",
      "## u205840 is compiling kn2row\n",
      "\n",
      "########################################################################\n",
      "# End of output for job 2448670.v-qsvr-1.aidevcloud\n",
      "# Date: Fri Dec 15 05:44:08 PM PST 2023\n",
      "########################################################################\n",
      "\n",
      "Job Completed in 9 seconds.\n"
     ]
    }
   ],
   "source": [
    "!chmod 755 q; chmod 755 run_kn2row_conv_nonsycl.sh; if [ -x \"$(command -v qsub)\" ]; then ./q run_kn2row_conv_nonsycl.sh; fi\n"
   ]
  },
  {
   "cell_type": "code",
   "execution_count": 35,
   "metadata": {},
   "outputs": [
    {
     "name": "stdout",
     "output_type": "stream",
     "text": [
      "Job ID                    Name             User            Time Use S Queue\n",
      "------------------------- ---------------- --------------- -------- - -----\n",
      "2448655.v-qsvr-1           ...ub-singleuser u205840         00:00:38 R jupyterhub     \n"
     ]
    }
   ],
   "source": [
    "!qstat\n"
   ]
  },
  {
   "cell_type": "code",
   "execution_count": null,
   "metadata": {},
   "outputs": [],
   "source": []
  },
  {
   "cell_type": "code",
   "execution_count": null,
   "metadata": {},
   "outputs": [],
   "source": []
  },
  {
   "cell_type": "code",
   "execution_count": null,
   "metadata": {},
   "outputs": [],
   "source": []
  },
  {
   "cell_type": "code",
   "execution_count": null,
   "metadata": {},
   "outputs": [],
   "source": []
  },
  {
   "cell_type": "code",
   "execution_count": null,
   "metadata": {},
   "outputs": [],
   "source": []
  },
  {
   "cell_type": "raw",
   "metadata": {
    "id": "KsdGIbZjahT1"
   },
   "source": [
    "class VGG16(nn.Module):\n",
    "\n",
    "  def __init__(self, input_size, num_classes=10,batch_norm=False):\n",
    "    super(VGG16, self).__init__()\n",
    "\n",
    "    self.in_channels,self.in_width,self.in_height = input_size\n",
    "\n",
    "    self.block_1 = VGGBlock(self.in_channels,64,batch_norm=batch_norm)\n",
    "    self.block_2 = VGGBlock(64, 128,batch_norm=batch_norm)\n",
    "    self.block_3 = VGGBlock(128, 256,batch_norm=batch_norm)\n",
    "    self.block_4 = VGGBlock(256,512,batch_norm=batch_norm)\n",
    "\n",
    "    self.classifier = nn.Sequential(\n",
    "            nn.Linear(2048, 4096),\n",
    "            nn.ReLU(True),\n",
    "            nn.Dropout(p=0.65),\n",
    "            nn.Linear(4096, 4096),\n",
    "            nn.ReLU(True),\n",
    "            nn.Dropout(p=0.65),\n",
    "            nn.Linear(4096, num_classes)\n",
    "        )\n",
    "\n",
    "  @property\n",
    "  def input_size(self):\n",
    "      return self.in_channels,self.in_width,self.in_height\n",
    "\n",
    "  def forward(self, x):\n",
    "\n",
    "    x = self.block_1(x)\n",
    "    x = self.block_2(x)\n",
    "    x = self.block_3(x)\n",
    "    x = self.block_4(x)\n",
    "    x = x.view(x.size(0), -1)\n",
    "    x = self.classifier(x)\n",
    "\n",
    "    return x"
   ]
  },
  {
   "cell_type": "code",
   "execution_count": 36,
   "metadata": {
    "colab": {
     "base_uri": "https://localhost:8080/"
    },
    "id": "mn52cQERa--Q",
    "outputId": "793b89be-08ed-4125-bfbf-7a0807382588"
   },
   "outputs": [
    {
     "data": {
      "text/plain": [
       "torch.Size([1, 512, 3, 3])"
      ]
     },
     "execution_count": 36,
     "metadata": {},
     "output_type": "execute_result"
    }
   ],
   "source": [
    "# Create the model\n",
    "model = VGG16((1,32,32), batch_norm=True)\n",
    "output = model(test_x)\n",
    "output.shape"
   ]
  },
  {
   "cell_type": "code",
   "execution_count": 37,
   "metadata": {
    "colab": {
     "base_uri": "https://localhost:8080/"
    },
    "id": "akOdRuH6c28Q",
    "outputId": "d137fc15-4785-47c5-d6dd-a8866d13d92e"
   },
   "outputs": [
    {
     "data": {
      "text/plain": [
       "False"
      ]
     },
     "execution_count": 37,
     "metadata": {},
     "output_type": "execute_result"
    }
   ],
   "source": [
    "torch.cuda.is_available()"
   ]
  },
  {
   "cell_type": "code",
   "execution_count": 38,
   "metadata": {
    "colab": {
     "base_uri": "https://localhost:8080/"
    },
    "id": "jiKBS7XfdK06",
    "outputId": "d7dac8a8-83be-4f6b-87ff-e4bdf7e0f6a3"
   },
   "outputs": [
    {
     "name": "stdout",
     "output_type": "stream",
     "text": [
      "xpu\n"
     ]
    }
   ],
   "source": [
    "dev = torch.device('xpu')\n",
    "print(dev)"
   ]
  },
  {
   "cell_type": "code",
   "execution_count": 39,
   "metadata": {
    "id": "-ndSKMnydLiU"
   },
   "outputs": [],
   "source": [
    "# Define an optimizier\n",
    "import torch.optim as optim\n",
    "optimizer = optim.SGD(model.parameters(), lr = 0.01)\n",
    "# Define a loss\n",
    "criterion = nn.CrossEntropyLoss()"
   ]
  },
  {
   "cell_type": "code",
   "execution_count": 40,
   "metadata": {
    "id": "g8-SFbXZbep9"
   },
   "outputs": [],
   "source": [
    "def train(net, loaders, optimizer, criterion, epochs=20, dev=dev, save_param = False, model_name=\"valerio\"):\n",
    "    try:\n",
    "        net = net.to(dev)\n",
    "        #print(net)\n",
    "        # Initialize history\n",
    "        history_loss = {\"train\": [], \"val\": [], \"test\": []}\n",
    "        history_accuracy = {\"train\": [], \"val\": [], \"test\": []}\n",
    "        # Store the best val accuracy\n",
    "        best_val_accuracy = 0\n",
    "\n",
    "        # Process each epoch\n",
    "        for epoch in range(epochs):\n",
    "            # Initialize epoch variables\n",
    "            sum_loss = {\"train\": 0, \"val\": 0, \"test\": 0}\n",
    "            sum_accuracy = {\"train\": 0, \"val\": 0, \"test\": 0}\n",
    "            # Process each split\n",
    "            for split in [\"train\", \"val\", \"test\"]:\n",
    "                if split == \"train\":\n",
    "                  net.train()\n",
    "                else:\n",
    "                  net.eval()\n",
    "                # Process each batch\n",
    "                for (input, labels) in loaders[split]:\n",
    "                    # Move to CUDA\n",
    "                    input = input.to(dev)\n",
    "                    labels = labels.to(dev)\n",
    "                    # Reset gradients\n",
    "                    optimizer.zero_grad()\n",
    "                    # Compute output\n",
    "                    pred = net(input)\n",
    "                    #pred = pred.squeeze(dim=1) # Output shape is [Batch size, 1], but we want [Batch size]\n",
    "                    #labels = labels.unsqueeze(1)\n",
    "                    labels = labels.long()\n",
    "                    loss = criterion(pred, labels)\n",
    "                    # Update loss\n",
    "                    sum_loss[split] += loss.item()\n",
    "                    # Check parameter update\n",
    "                    if split == \"train\":\n",
    "                        # Compute gradients\n",
    "                        loss.backward()\n",
    "                        # Optimize\n",
    "                        optimizer.step()\n",
    "                    # Compute accuracy\n",
    "                    #pred_labels = pred.argmax(1) + 1\n",
    "                    #pred_labels = (pred >= 0.5).long() # Binarize predictions to 0 and 1\n",
    "                    _,pred_label = torch.max(pred, dim = 1)\n",
    "                    pred_labels = (pred_label == labels).float()\n",
    "\n",
    "                    batch_accuracy = pred_labels.sum().item()/input.size(0)\n",
    "                    # Update accuracy\n",
    "                    sum_accuracy[split] += batch_accuracy\n",
    "            # Compute epoch loss/accuracy\n",
    "            epoch_loss = {split: sum_loss[split]/len(loaders[split]) for split in [\"train\", \"val\", \"test\"]}\n",
    "            epoch_accuracy = {split: sum_accuracy[split]/len(loaders[split]) for split in [\"train\", \"val\", \"test\"]}\n",
    "\n",
    "            # Store params at the best validation accuracy\n",
    "            if save_param and epoch_accuracy[\"val\"] > best_val_accuracy:\n",
    "              #torch.save(net.state_dict(), f\"{net.__class__.__name__}_best_val.pth\")\n",
    "              torch.save(net.state_dict(), f\"{model_name}_best_val.pth\")\n",
    "              best_val_accuracy = epoch_accuracy[\"val\"]\n",
    "\n",
    "            # Update history\n",
    "            for split in [\"train\", \"val\", \"test\"]:\n",
    "                history_loss[split].append(epoch_loss[split])\n",
    "                history_accuracy[split].append(epoch_accuracy[split])\n",
    "            # Print info\n",
    "            print(f\"Epoch {epoch+1}:\",\n",
    "                  f\"TrL={epoch_loss['train']:.4f},\",\n",
    "                  f\"TrA={epoch_accuracy['train']:.4f},\",\n",
    "                  f\"VL={epoch_loss['val']:.4f},\",\n",
    "                  f\"VA={epoch_accuracy['val']:.4f},\",\n",
    "                  f\"TeL={epoch_loss['test']:.4f},\",\n",
    "                  f\"TeA={epoch_accuracy['test']:.4f},\")\n",
    "    except KeyboardInterrupt:\n",
    "        print(\"Interrupted\")\n",
    "#     finally:\n",
    "#         # Plot loss\n",
    "#         plt.title(\"Loss\")\n",
    "#         for split in [\"train\", \"val\", \"test\"]:\n",
    "#             plt.plot(history_loss[split], label=split)\n",
    "#         plt.legend()\n",
    "#         plt.show()\n",
    "#         # Plot accuracy\n",
    "#         plt.title(\"Accuracy\")\n",
    "#         for split in [\"train\", \"val\", \"test\"]:\n",
    "#             plt.plot(history_accuracy[split], label=split)\n",
    "#         plt.legend()\n",
    "#         plt.show()"
   ]
  },
  {
   "cell_type": "code",
   "execution_count": 41,
   "metadata": {
    "id": "p4pK8FL5d3po"
   },
   "outputs": [],
   "source": [
    "# Define dictionary of loaders\n",
    "loaders = {\"train\": train_loader,\n",
    "           \"val\": val_loader,\n",
    "           \"test\": test_loader}"
   ]
  },
  {
   "cell_type": "code",
   "execution_count": null,
   "metadata": {
    "colab": {
     "base_uri": "https://localhost:8080/",
     "height": 649
    },
    "id": "1-mvk06NeW3Y",
    "outputId": "781d3dd5-3f2a-481e-90cd-9d7997b3a722"
   },
   "outputs": [],
   "source": [
    "# Train model\n",
    "train(model, loaders, optimizer, criterion, epochs=10, dev=dev)"
   ]
  },
  {
   "cell_type": "code",
   "execution_count": null,
   "metadata": {
    "id": "Ny9vvXp2kPNm"
   },
   "outputs": [],
   "source": []
  }
 ],
 "metadata": {
  "accelerator": "GPU",
  "colab": {
   "provenance": []
  },
  "kernelspec": {
   "display_name": "PyTorch (AI kit)",
   "language": "python",
   "name": "c009-intel_distribution_of_python_3_oneapi-beta05-pytorch"
  },
  "language_info": {
   "codemirror_mode": {
    "name": "ipython",
    "version": 3
   },
   "file_extension": ".py",
   "mimetype": "text/x-python",
   "name": "python",
   "nbconvert_exporter": "python",
   "pygments_lexer": "ipython3",
   "version": "3.9.16"
  },
  "widgets": {
   "application/vnd.jupyter.widget-state+json": {
    "08c135ed5d86445a8510d10fd37d5195": {
     "model_module": "@jupyter-widgets/controls",
     "model_module_version": "1.5.0",
     "model_name": "DescriptionStyleModel",
     "state": {
      "_model_module": "@jupyter-widgets/controls",
      "_model_module_version": "1.5.0",
      "_model_name": "DescriptionStyleModel",
      "_view_count": null,
      "_view_module": "@jupyter-widgets/base",
      "_view_module_version": "1.2.0",
      "_view_name": "StyleView",
      "description_width": ""
     }
    },
    "08d42405924e45abaa3655a9596ab327": {
     "model_module": "@jupyter-widgets/controls",
     "model_module_version": "1.5.0",
     "model_name": "HBoxModel",
     "state": {
      "_dom_classes": [],
      "_model_module": "@jupyter-widgets/controls",
      "_model_module_version": "1.5.0",
      "_model_name": "HBoxModel",
      "_view_count": null,
      "_view_module": "@jupyter-widgets/controls",
      "_view_module_version": "1.5.0",
      "_view_name": "HBoxView",
      "box_style": "",
      "children": [
       "IPY_MODEL_bdf94c7d39fa41da9f0d6b53079e697b",
       "IPY_MODEL_8962d4506ed44e95a4f227b67db54abd"
      ],
      "layout": "IPY_MODEL_27912aa14590467fb35efb32ba061a57"
     }
    },
    "0a0e63f8f4cb465fa251429ddd67c985": {
     "model_module": "@jupyter-widgets/controls",
     "model_module_version": "1.5.0",
     "model_name": "FloatProgressModel",
     "state": {
      "_dom_classes": [],
      "_model_module": "@jupyter-widgets/controls",
      "_model_module_version": "1.5.0",
      "_model_name": "FloatProgressModel",
      "_view_count": null,
      "_view_module": "@jupyter-widgets/controls",
      "_view_module_version": "1.5.0",
      "_view_name": "ProgressView",
      "bar_style": "success",
      "description": "",
      "description_tooltip": null,
      "layout": "IPY_MODEL_771dd452d3584fcd8c1ef34001cce67b",
      "max": 1648877,
      "min": 0,
      "orientation": "horizontal",
      "style": "IPY_MODEL_8740447ca363409496d90a02e7a4428b",
      "value": 1648877
     }
    },
    "253b164bbebb4c269a97a85cc28854b3": {
     "model_module": "@jupyter-widgets/controls",
     "model_module_version": "1.5.0",
     "model_name": "HTMLModel",
     "state": {
      "_dom_classes": [],
      "_model_module": "@jupyter-widgets/controls",
      "_model_module_version": "1.5.0",
      "_model_name": "HTMLModel",
      "_view_count": null,
      "_view_module": "@jupyter-widgets/controls",
      "_view_module_version": "1.5.0",
      "_view_name": "HTMLView",
      "description": "",
      "description_tooltip": null,
      "layout": "IPY_MODEL_6cfbb890f36a4a9297beb84b101690bc",
      "placeholder": "​",
      "style": "IPY_MODEL_f822523080344831b7d673010fac4901",
      "value": " 1649664/? [00:00&lt;00:00, 3940078.93it/s]"
     }
    },
    "27912aa14590467fb35efb32ba061a57": {
     "model_module": "@jupyter-widgets/base",
     "model_module_version": "1.2.0",
     "model_name": "LayoutModel",
     "state": {
      "_model_module": "@jupyter-widgets/base",
      "_model_module_version": "1.2.0",
      "_model_name": "LayoutModel",
      "_view_count": null,
      "_view_module": "@jupyter-widgets/base",
      "_view_module_version": "1.2.0",
      "_view_name": "LayoutView",
      "align_content": null,
      "align_items": null,
      "align_self": null,
      "border": null,
      "bottom": null,
      "display": null,
      "flex": null,
      "flex_flow": null,
      "grid_area": null,
      "grid_auto_columns": null,
      "grid_auto_flow": null,
      "grid_auto_rows": null,
      "grid_column": null,
      "grid_gap": null,
      "grid_row": null,
      "grid_template_areas": null,
      "grid_template_columns": null,
      "grid_template_rows": null,
      "height": null,
      "justify_content": null,
      "justify_items": null,
      "left": null,
      "margin": null,
      "max_height": null,
      "max_width": null,
      "min_height": null,
      "min_width": null,
      "object_fit": null,
      "object_position": null,
      "order": null,
      "overflow": null,
      "overflow_x": null,
      "overflow_y": null,
      "padding": null,
      "right": null,
      "top": null,
      "visibility": null,
      "width": null
     }
    },
    "2e070cb5474d46bc91ccdb7c68c6a9d4": {
     "model_module": "@jupyter-widgets/controls",
     "model_module_version": "1.5.0",
     "model_name": "ProgressStyleModel",
     "state": {
      "_model_module": "@jupyter-widgets/controls",
      "_model_module_version": "1.5.0",
      "_model_name": "ProgressStyleModel",
      "_view_count": null,
      "_view_module": "@jupyter-widgets/base",
      "_view_module_version": "1.2.0",
      "_view_name": "StyleView",
      "bar_color": null,
      "description_width": "initial"
     }
    },
    "6ab8b1357982408e8709ffab1f71db9c": {
     "model_module": "@jupyter-widgets/controls",
     "model_module_version": "1.5.0",
     "model_name": "HTMLModel",
     "state": {
      "_dom_classes": [],
      "_model_module": "@jupyter-widgets/controls",
      "_model_module_version": "1.5.0",
      "_model_name": "HTMLModel",
      "_view_count": null,
      "_view_module": "@jupyter-widgets/controls",
      "_view_module_version": "1.5.0",
      "_view_name": "HTMLView",
      "description": "",
      "description_tooltip": null,
      "layout": "IPY_MODEL_70fb4a98ca08473484b3593636de85df",
      "placeholder": "​",
      "style": "IPY_MODEL_bbc6e4b31cc147d98fd8c5050a079491",
      "value": " 29696/? [00:00&lt;00:00, 165854.47it/s]"
     }
    },
    "6ca336880c074cf5b9f230ab76f501f5": {
     "model_module": "@jupyter-widgets/controls",
     "model_module_version": "1.5.0",
     "model_name": "FloatProgressModel",
     "state": {
      "_dom_classes": [],
      "_model_module": "@jupyter-widgets/controls",
      "_model_module_version": "1.5.0",
      "_model_name": "FloatProgressModel",
      "_view_count": null,
      "_view_module": "@jupyter-widgets/controls",
      "_view_module_version": "1.5.0",
      "_view_name": "ProgressView",
      "bar_style": "success",
      "description": "",
      "description_tooltip": null,
      "layout": "IPY_MODEL_8c031fc3a8b3452db8613695b15c9b66",
      "max": 28881,
      "min": 0,
      "orientation": "horizontal",
      "style": "IPY_MODEL_95b40d79a7e74e7fa0a2310642c6c2e7",
      "value": 28881
     }
    },
    "6cfbb890f36a4a9297beb84b101690bc": {
     "model_module": "@jupyter-widgets/base",
     "model_module_version": "1.2.0",
     "model_name": "LayoutModel",
     "state": {
      "_model_module": "@jupyter-widgets/base",
      "_model_module_version": "1.2.0",
      "_model_name": "LayoutModel",
      "_view_count": null,
      "_view_module": "@jupyter-widgets/base",
      "_view_module_version": "1.2.0",
      "_view_name": "LayoutView",
      "align_content": null,
      "align_items": null,
      "align_self": null,
      "border": null,
      "bottom": null,
      "display": null,
      "flex": null,
      "flex_flow": null,
      "grid_area": null,
      "grid_auto_columns": null,
      "grid_auto_flow": null,
      "grid_auto_rows": null,
      "grid_column": null,
      "grid_gap": null,
      "grid_row": null,
      "grid_template_areas": null,
      "grid_template_columns": null,
      "grid_template_rows": null,
      "height": null,
      "justify_content": null,
      "justify_items": null,
      "left": null,
      "margin": null,
      "max_height": null,
      "max_width": null,
      "min_height": null,
      "min_width": null,
      "object_fit": null,
      "object_position": null,
      "order": null,
      "overflow": null,
      "overflow_x": null,
      "overflow_y": null,
      "padding": null,
      "right": null,
      "top": null,
      "visibility": null,
      "width": null
     }
    },
    "70fb4a98ca08473484b3593636de85df": {
     "model_module": "@jupyter-widgets/base",
     "model_module_version": "1.2.0",
     "model_name": "LayoutModel",
     "state": {
      "_model_module": "@jupyter-widgets/base",
      "_model_module_version": "1.2.0",
      "_model_name": "LayoutModel",
      "_view_count": null,
      "_view_module": "@jupyter-widgets/base",
      "_view_module_version": "1.2.0",
      "_view_name": "LayoutView",
      "align_content": null,
      "align_items": null,
      "align_self": null,
      "border": null,
      "bottom": null,
      "display": null,
      "flex": null,
      "flex_flow": null,
      "grid_area": null,
      "grid_auto_columns": null,
      "grid_auto_flow": null,
      "grid_auto_rows": null,
      "grid_column": null,
      "grid_gap": null,
      "grid_row": null,
      "grid_template_areas": null,
      "grid_template_columns": null,
      "grid_template_rows": null,
      "height": null,
      "justify_content": null,
      "justify_items": null,
      "left": null,
      "margin": null,
      "max_height": null,
      "max_width": null,
      "min_height": null,
      "min_width": null,
      "object_fit": null,
      "object_position": null,
      "order": null,
      "overflow": null,
      "overflow_x": null,
      "overflow_y": null,
      "padding": null,
      "right": null,
      "top": null,
      "visibility": null,
      "width": null
     }
    },
    "72a2264165f4426fbb81092bec691304": {
     "model_module": "@jupyter-widgets/controls",
     "model_module_version": "1.5.0",
     "model_name": "HBoxModel",
     "state": {
      "_dom_classes": [],
      "_model_module": "@jupyter-widgets/controls",
      "_model_module_version": "1.5.0",
      "_model_name": "HBoxModel",
      "_view_count": null,
      "_view_module": "@jupyter-widgets/controls",
      "_view_module_version": "1.5.0",
      "_view_name": "HBoxView",
      "box_style": "",
      "children": [
       "IPY_MODEL_0a0e63f8f4cb465fa251429ddd67c985",
       "IPY_MODEL_253b164bbebb4c269a97a85cc28854b3"
      ],
      "layout": "IPY_MODEL_fb97bcd5ae4f4fe2886244e514d1a7aa"
     }
    },
    "771dd452d3584fcd8c1ef34001cce67b": {
     "model_module": "@jupyter-widgets/base",
     "model_module_version": "1.2.0",
     "model_name": "LayoutModel",
     "state": {
      "_model_module": "@jupyter-widgets/base",
      "_model_module_version": "1.2.0",
      "_model_name": "LayoutModel",
      "_view_count": null,
      "_view_module": "@jupyter-widgets/base",
      "_view_module_version": "1.2.0",
      "_view_name": "LayoutView",
      "align_content": null,
      "align_items": null,
      "align_self": null,
      "border": null,
      "bottom": null,
      "display": null,
      "flex": null,
      "flex_flow": null,
      "grid_area": null,
      "grid_auto_columns": null,
      "grid_auto_flow": null,
      "grid_auto_rows": null,
      "grid_column": null,
      "grid_gap": null,
      "grid_row": null,
      "grid_template_areas": null,
      "grid_template_columns": null,
      "grid_template_rows": null,
      "height": null,
      "justify_content": null,
      "justify_items": null,
      "left": null,
      "margin": null,
      "max_height": null,
      "max_width": null,
      "min_height": null,
      "min_width": null,
      "object_fit": null,
      "object_position": null,
      "order": null,
      "overflow": null,
      "overflow_x": null,
      "overflow_y": null,
      "padding": null,
      "right": null,
      "top": null,
      "visibility": null,
      "width": null
     }
    },
    "842f048fde2242e28af1eae944063bc7": {
     "model_module": "@jupyter-widgets/base",
     "model_module_version": "1.2.0",
     "model_name": "LayoutModel",
     "state": {
      "_model_module": "@jupyter-widgets/base",
      "_model_module_version": "1.2.0",
      "_model_name": "LayoutModel",
      "_view_count": null,
      "_view_module": "@jupyter-widgets/base",
      "_view_module_version": "1.2.0",
      "_view_name": "LayoutView",
      "align_content": null,
      "align_items": null,
      "align_self": null,
      "border": null,
      "bottom": null,
      "display": null,
      "flex": null,
      "flex_flow": null,
      "grid_area": null,
      "grid_auto_columns": null,
      "grid_auto_flow": null,
      "grid_auto_rows": null,
      "grid_column": null,
      "grid_gap": null,
      "grid_row": null,
      "grid_template_areas": null,
      "grid_template_columns": null,
      "grid_template_rows": null,
      "height": null,
      "justify_content": null,
      "justify_items": null,
      "left": null,
      "margin": null,
      "max_height": null,
      "max_width": null,
      "min_height": null,
      "min_width": null,
      "object_fit": null,
      "object_position": null,
      "order": null,
      "overflow": null,
      "overflow_x": null,
      "overflow_y": null,
      "padding": null,
      "right": null,
      "top": null,
      "visibility": null,
      "width": null
     }
    },
    "8740447ca363409496d90a02e7a4428b": {
     "model_module": "@jupyter-widgets/controls",
     "model_module_version": "1.5.0",
     "model_name": "ProgressStyleModel",
     "state": {
      "_model_module": "@jupyter-widgets/controls",
      "_model_module_version": "1.5.0",
      "_model_name": "ProgressStyleModel",
      "_view_count": null,
      "_view_module": "@jupyter-widgets/base",
      "_view_module_version": "1.2.0",
      "_view_name": "StyleView",
      "bar_color": null,
      "description_width": "initial"
     }
    },
    "87ffdbc326394041a6d20850e52062c8": {
     "model_module": "@jupyter-widgets/controls",
     "model_module_version": "1.5.0",
     "model_name": "ProgressStyleModel",
     "state": {
      "_model_module": "@jupyter-widgets/controls",
      "_model_module_version": "1.5.0",
      "_model_name": "ProgressStyleModel",
      "_view_count": null,
      "_view_module": "@jupyter-widgets/base",
      "_view_module_version": "1.2.0",
      "_view_name": "StyleView",
      "bar_color": null,
      "description_width": "initial"
     }
    },
    "8962d4506ed44e95a4f227b67db54abd": {
     "model_module": "@jupyter-widgets/controls",
     "model_module_version": "1.5.0",
     "model_name": "HTMLModel",
     "state": {
      "_dom_classes": [],
      "_model_module": "@jupyter-widgets/controls",
      "_model_module_version": "1.5.0",
      "_model_name": "HTMLModel",
      "_view_count": null,
      "_view_module": "@jupyter-widgets/controls",
      "_view_module_version": "1.5.0",
      "_view_name": "HTMLView",
      "description": "",
      "description_tooltip": null,
      "layout": "IPY_MODEL_9715821f1ab34decac23617fac0a3329",
      "placeholder": "​",
      "style": "IPY_MODEL_08c135ed5d86445a8510d10fd37d5195",
      "value": " 9913344/? [00:01&lt;00:00, 8018405.57it/s]"
     }
    },
    "8c031fc3a8b3452db8613695b15c9b66": {
     "model_module": "@jupyter-widgets/base",
     "model_module_version": "1.2.0",
     "model_name": "LayoutModel",
     "state": {
      "_model_module": "@jupyter-widgets/base",
      "_model_module_version": "1.2.0",
      "_model_name": "LayoutModel",
      "_view_count": null,
      "_view_module": "@jupyter-widgets/base",
      "_view_module_version": "1.2.0",
      "_view_name": "LayoutView",
      "align_content": null,
      "align_items": null,
      "align_self": null,
      "border": null,
      "bottom": null,
      "display": null,
      "flex": null,
      "flex_flow": null,
      "grid_area": null,
      "grid_auto_columns": null,
      "grid_auto_flow": null,
      "grid_auto_rows": null,
      "grid_column": null,
      "grid_gap": null,
      "grid_row": null,
      "grid_template_areas": null,
      "grid_template_columns": null,
      "grid_template_rows": null,
      "height": null,
      "justify_content": null,
      "justify_items": null,
      "left": null,
      "margin": null,
      "max_height": null,
      "max_width": null,
      "min_height": null,
      "min_width": null,
      "object_fit": null,
      "object_position": null,
      "order": null,
      "overflow": null,
      "overflow_x": null,
      "overflow_y": null,
      "padding": null,
      "right": null,
      "top": null,
      "visibility": null,
      "width": null
     }
    },
    "95b40d79a7e74e7fa0a2310642c6c2e7": {
     "model_module": "@jupyter-widgets/controls",
     "model_module_version": "1.5.0",
     "model_name": "ProgressStyleModel",
     "state": {
      "_model_module": "@jupyter-widgets/controls",
      "_model_module_version": "1.5.0",
      "_model_name": "ProgressStyleModel",
      "_view_count": null,
      "_view_module": "@jupyter-widgets/base",
      "_view_module_version": "1.2.0",
      "_view_name": "StyleView",
      "bar_color": null,
      "description_width": "initial"
     }
    },
    "9715821f1ab34decac23617fac0a3329": {
     "model_module": "@jupyter-widgets/base",
     "model_module_version": "1.2.0",
     "model_name": "LayoutModel",
     "state": {
      "_model_module": "@jupyter-widgets/base",
      "_model_module_version": "1.2.0",
      "_model_name": "LayoutModel",
      "_view_count": null,
      "_view_module": "@jupyter-widgets/base",
      "_view_module_version": "1.2.0",
      "_view_name": "LayoutView",
      "align_content": null,
      "align_items": null,
      "align_self": null,
      "border": null,
      "bottom": null,
      "display": null,
      "flex": null,
      "flex_flow": null,
      "grid_area": null,
      "grid_auto_columns": null,
      "grid_auto_flow": null,
      "grid_auto_rows": null,
      "grid_column": null,
      "grid_gap": null,
      "grid_row": null,
      "grid_template_areas": null,
      "grid_template_columns": null,
      "grid_template_rows": null,
      "height": null,
      "justify_content": null,
      "justify_items": null,
      "left": null,
      "margin": null,
      "max_height": null,
      "max_width": null,
      "min_height": null,
      "min_width": null,
      "object_fit": null,
      "object_position": null,
      "order": null,
      "overflow": null,
      "overflow_x": null,
      "overflow_y": null,
      "padding": null,
      "right": null,
      "top": null,
      "visibility": null,
      "width": null
     }
    },
    "9914b6ddb15844ca8667f5a9be121fea": {
     "model_module": "@jupyter-widgets/controls",
     "model_module_version": "1.5.0",
     "model_name": "HTMLModel",
     "state": {
      "_dom_classes": [],
      "_model_module": "@jupyter-widgets/controls",
      "_model_module_version": "1.5.0",
      "_model_name": "HTMLModel",
      "_view_count": null,
      "_view_module": "@jupyter-widgets/controls",
      "_view_module_version": "1.5.0",
      "_view_name": "HTMLView",
      "description": "",
      "description_tooltip": null,
      "layout": "IPY_MODEL_f76af28e50a046c48e3e79e6618d8437",
      "placeholder": "​",
      "style": "IPY_MODEL_e83c013a70e84d7087c671f5fc2783e8",
      "value": " 5120/? [00:00&lt;00:00, 29401.23it/s]"
     }
    },
    "ae370b9552ad405cb8eb01379204d52f": {
     "model_module": "@jupyter-widgets/controls",
     "model_module_version": "1.5.0",
     "model_name": "HBoxModel",
     "state": {
      "_dom_classes": [],
      "_model_module": "@jupyter-widgets/controls",
      "_model_module_version": "1.5.0",
      "_model_name": "HBoxModel",
      "_view_count": null,
      "_view_module": "@jupyter-widgets/controls",
      "_view_module_version": "1.5.0",
      "_view_name": "HBoxView",
      "box_style": "",
      "children": [
       "IPY_MODEL_c3e80139006a44c6972684e1f55dd903",
       "IPY_MODEL_9914b6ddb15844ca8667f5a9be121fea"
      ],
      "layout": "IPY_MODEL_842f048fde2242e28af1eae944063bc7"
     }
    },
    "b1cb1f56134c46de9a2aff80091b3c44": {
     "model_module": "@jupyter-widgets/base",
     "model_module_version": "1.2.0",
     "model_name": "LayoutModel",
     "state": {
      "_model_module": "@jupyter-widgets/base",
      "_model_module_version": "1.2.0",
      "_model_name": "LayoutModel",
      "_view_count": null,
      "_view_module": "@jupyter-widgets/base",
      "_view_module_version": "1.2.0",
      "_view_name": "LayoutView",
      "align_content": null,
      "align_items": null,
      "align_self": null,
      "border": null,
      "bottom": null,
      "display": null,
      "flex": null,
      "flex_flow": null,
      "grid_area": null,
      "grid_auto_columns": null,
      "grid_auto_flow": null,
      "grid_auto_rows": null,
      "grid_column": null,
      "grid_gap": null,
      "grid_row": null,
      "grid_template_areas": null,
      "grid_template_columns": null,
      "grid_template_rows": null,
      "height": null,
      "justify_content": null,
      "justify_items": null,
      "left": null,
      "margin": null,
      "max_height": null,
      "max_width": null,
      "min_height": null,
      "min_width": null,
      "object_fit": null,
      "object_position": null,
      "order": null,
      "overflow": null,
      "overflow_x": null,
      "overflow_y": null,
      "padding": null,
      "right": null,
      "top": null,
      "visibility": null,
      "width": null
     }
    },
    "bbc6e4b31cc147d98fd8c5050a079491": {
     "model_module": "@jupyter-widgets/controls",
     "model_module_version": "1.5.0",
     "model_name": "DescriptionStyleModel",
     "state": {
      "_model_module": "@jupyter-widgets/controls",
      "_model_module_version": "1.5.0",
      "_model_name": "DescriptionStyleModel",
      "_view_count": null,
      "_view_module": "@jupyter-widgets/base",
      "_view_module_version": "1.2.0",
      "_view_name": "StyleView",
      "description_width": ""
     }
    },
    "bdf94c7d39fa41da9f0d6b53079e697b": {
     "model_module": "@jupyter-widgets/controls",
     "model_module_version": "1.5.0",
     "model_name": "FloatProgressModel",
     "state": {
      "_dom_classes": [],
      "_model_module": "@jupyter-widgets/controls",
      "_model_module_version": "1.5.0",
      "_model_name": "FloatProgressModel",
      "_view_count": null,
      "_view_module": "@jupyter-widgets/controls",
      "_view_module_version": "1.5.0",
      "_view_name": "ProgressView",
      "bar_style": "success",
      "description": "",
      "description_tooltip": null,
      "layout": "IPY_MODEL_c18a42c2892040428cb0790446d17439",
      "max": 9912422,
      "min": 0,
      "orientation": "horizontal",
      "style": "IPY_MODEL_87ffdbc326394041a6d20850e52062c8",
      "value": 9912422
     }
    },
    "c18a42c2892040428cb0790446d17439": {
     "model_module": "@jupyter-widgets/base",
     "model_module_version": "1.2.0",
     "model_name": "LayoutModel",
     "state": {
      "_model_module": "@jupyter-widgets/base",
      "_model_module_version": "1.2.0",
      "_model_name": "LayoutModel",
      "_view_count": null,
      "_view_module": "@jupyter-widgets/base",
      "_view_module_version": "1.2.0",
      "_view_name": "LayoutView",
      "align_content": null,
      "align_items": null,
      "align_self": null,
      "border": null,
      "bottom": null,
      "display": null,
      "flex": null,
      "flex_flow": null,
      "grid_area": null,
      "grid_auto_columns": null,
      "grid_auto_flow": null,
      "grid_auto_rows": null,
      "grid_column": null,
      "grid_gap": null,
      "grid_row": null,
      "grid_template_areas": null,
      "grid_template_columns": null,
      "grid_template_rows": null,
      "height": null,
      "justify_content": null,
      "justify_items": null,
      "left": null,
      "margin": null,
      "max_height": null,
      "max_width": null,
      "min_height": null,
      "min_width": null,
      "object_fit": null,
      "object_position": null,
      "order": null,
      "overflow": null,
      "overflow_x": null,
      "overflow_y": null,
      "padding": null,
      "right": null,
      "top": null,
      "visibility": null,
      "width": null
     }
    },
    "c3e80139006a44c6972684e1f55dd903": {
     "model_module": "@jupyter-widgets/controls",
     "model_module_version": "1.5.0",
     "model_name": "FloatProgressModel",
     "state": {
      "_dom_classes": [],
      "_model_module": "@jupyter-widgets/controls",
      "_model_module_version": "1.5.0",
      "_model_name": "FloatProgressModel",
      "_view_count": null,
      "_view_module": "@jupyter-widgets/controls",
      "_view_module_version": "1.5.0",
      "_view_name": "ProgressView",
      "bar_style": "success",
      "description": "",
      "description_tooltip": null,
      "layout": "IPY_MODEL_b1cb1f56134c46de9a2aff80091b3c44",
      "max": 4542,
      "min": 0,
      "orientation": "horizontal",
      "style": "IPY_MODEL_2e070cb5474d46bc91ccdb7c68c6a9d4",
      "value": 4542
     }
    },
    "c9cce418d88242838c988b4d733c41f9": {
     "model_module": "@jupyter-widgets/controls",
     "model_module_version": "1.5.0",
     "model_name": "HBoxModel",
     "state": {
      "_dom_classes": [],
      "_model_module": "@jupyter-widgets/controls",
      "_model_module_version": "1.5.0",
      "_model_name": "HBoxModel",
      "_view_count": null,
      "_view_module": "@jupyter-widgets/controls",
      "_view_module_version": "1.5.0",
      "_view_name": "HBoxView",
      "box_style": "",
      "children": [
       "IPY_MODEL_6ca336880c074cf5b9f230ab76f501f5",
       "IPY_MODEL_6ab8b1357982408e8709ffab1f71db9c"
      ],
      "layout": "IPY_MODEL_e04b72dd789c4584bb43710564306f86"
     }
    },
    "e04b72dd789c4584bb43710564306f86": {
     "model_module": "@jupyter-widgets/base",
     "model_module_version": "1.2.0",
     "model_name": "LayoutModel",
     "state": {
      "_model_module": "@jupyter-widgets/base",
      "_model_module_version": "1.2.0",
      "_model_name": "LayoutModel",
      "_view_count": null,
      "_view_module": "@jupyter-widgets/base",
      "_view_module_version": "1.2.0",
      "_view_name": "LayoutView",
      "align_content": null,
      "align_items": null,
      "align_self": null,
      "border": null,
      "bottom": null,
      "display": null,
      "flex": null,
      "flex_flow": null,
      "grid_area": null,
      "grid_auto_columns": null,
      "grid_auto_flow": null,
      "grid_auto_rows": null,
      "grid_column": null,
      "grid_gap": null,
      "grid_row": null,
      "grid_template_areas": null,
      "grid_template_columns": null,
      "grid_template_rows": null,
      "height": null,
      "justify_content": null,
      "justify_items": null,
      "left": null,
      "margin": null,
      "max_height": null,
      "max_width": null,
      "min_height": null,
      "min_width": null,
      "object_fit": null,
      "object_position": null,
      "order": null,
      "overflow": null,
      "overflow_x": null,
      "overflow_y": null,
      "padding": null,
      "right": null,
      "top": null,
      "visibility": null,
      "width": null
     }
    },
    "e83c013a70e84d7087c671f5fc2783e8": {
     "model_module": "@jupyter-widgets/controls",
     "model_module_version": "1.5.0",
     "model_name": "DescriptionStyleModel",
     "state": {
      "_model_module": "@jupyter-widgets/controls",
      "_model_module_version": "1.5.0",
      "_model_name": "DescriptionStyleModel",
      "_view_count": null,
      "_view_module": "@jupyter-widgets/base",
      "_view_module_version": "1.2.0",
      "_view_name": "StyleView",
      "description_width": ""
     }
    },
    "f76af28e50a046c48e3e79e6618d8437": {
     "model_module": "@jupyter-widgets/base",
     "model_module_version": "1.2.0",
     "model_name": "LayoutModel",
     "state": {
      "_model_module": "@jupyter-widgets/base",
      "_model_module_version": "1.2.0",
      "_model_name": "LayoutModel",
      "_view_count": null,
      "_view_module": "@jupyter-widgets/base",
      "_view_module_version": "1.2.0",
      "_view_name": "LayoutView",
      "align_content": null,
      "align_items": null,
      "align_self": null,
      "border": null,
      "bottom": null,
      "display": null,
      "flex": null,
      "flex_flow": null,
      "grid_area": null,
      "grid_auto_columns": null,
      "grid_auto_flow": null,
      "grid_auto_rows": null,
      "grid_column": null,
      "grid_gap": null,
      "grid_row": null,
      "grid_template_areas": null,
      "grid_template_columns": null,
      "grid_template_rows": null,
      "height": null,
      "justify_content": null,
      "justify_items": null,
      "left": null,
      "margin": null,
      "max_height": null,
      "max_width": null,
      "min_height": null,
      "min_width": null,
      "object_fit": null,
      "object_position": null,
      "order": null,
      "overflow": null,
      "overflow_x": null,
      "overflow_y": null,
      "padding": null,
      "right": null,
      "top": null,
      "visibility": null,
      "width": null
     }
    },
    "f822523080344831b7d673010fac4901": {
     "model_module": "@jupyter-widgets/controls",
     "model_module_version": "1.5.0",
     "model_name": "DescriptionStyleModel",
     "state": {
      "_model_module": "@jupyter-widgets/controls",
      "_model_module_version": "1.5.0",
      "_model_name": "DescriptionStyleModel",
      "_view_count": null,
      "_view_module": "@jupyter-widgets/base",
      "_view_module_version": "1.2.0",
      "_view_name": "StyleView",
      "description_width": ""
     }
    },
    "fb97bcd5ae4f4fe2886244e514d1a7aa": {
     "model_module": "@jupyter-widgets/base",
     "model_module_version": "1.2.0",
     "model_name": "LayoutModel",
     "state": {
      "_model_module": "@jupyter-widgets/base",
      "_model_module_version": "1.2.0",
      "_model_name": "LayoutModel",
      "_view_count": null,
      "_view_module": "@jupyter-widgets/base",
      "_view_module_version": "1.2.0",
      "_view_name": "LayoutView",
      "align_content": null,
      "align_items": null,
      "align_self": null,
      "border": null,
      "bottom": null,
      "display": null,
      "flex": null,
      "flex_flow": null,
      "grid_area": null,
      "grid_auto_columns": null,
      "grid_auto_flow": null,
      "grid_auto_rows": null,
      "grid_column": null,
      "grid_gap": null,
      "grid_row": null,
      "grid_template_areas": null,
      "grid_template_columns": null,
      "grid_template_rows": null,
      "height": null,
      "justify_content": null,
      "justify_items": null,
      "left": null,
      "margin": null,
      "max_height": null,
      "max_width": null,
      "min_height": null,
      "min_width": null,
      "object_fit": null,
      "object_position": null,
      "order": null,
      "overflow": null,
      "overflow_x": null,
      "overflow_y": null,
      "padding": null,
      "right": null,
      "top": null,
      "visibility": null,
      "width": null
     }
    }
   }
  }
 },
 "nbformat": 4,
 "nbformat_minor": 4
}
